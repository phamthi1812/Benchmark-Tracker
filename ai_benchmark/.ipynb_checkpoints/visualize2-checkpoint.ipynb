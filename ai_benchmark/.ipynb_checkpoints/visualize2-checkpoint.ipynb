{
 "cells": [
  {
   "cell_type": "code",
   "execution_count": null,
   "id": "248a4b64-4d6f-4569-859b-271d84ad037a",
   "metadata": {},
   "outputs": [],
   "source": [
    "import csv\n",
    "import os\n",
    "import pandas as pd\n",
    "import numpy as np\n",
    "import matplotlib as mpl\n",
    "import matplotlib.pyplot as plt\n",
    "import seaborn as sb\n",
    "#plt.style.use('classic')\n",
    "plt.style.use('ggplot')\n",
    "sb.set_theme(style=\"whitegrid\")\n",
    "HOME = os.environ['HOME']"
   ]
  },
  {
   "cell_type": "code",
   "execution_count": null,
   "id": "a48deaee-ee74-4408-ac89-8d405f05e6ee",
   "metadata": {},
   "outputs": [],
   "source": [
    "data_infe1 = pd.read_csv(HOME +'/research_project/benchmark-tracker/ai_benchmark/RESULTS/results_inference.csv')\n",
    "data_train1 = pd.read_csv(HOME +'/research_project/benchmark-tracker/ai_benchmark/RESULTS/results_training.csv')\n",
    "data_infe2 = pd.read_csv(HOME +'/research_project/benchmark-tracker/ai_benchmark/RESULTS2/results_inference.csv')\n",
    "data_train2 = pd.read_csv(HOME +'/research_project/benchmark-tracker/ai_benchmark/RESULTS2/results_training.csv')\n",
    "data_infe3 = pd.read_csv(HOME +'/research_project/benchmark-tracker/ai_benchmark/RESULTS3/results_inference.csv')\n",
    "data_train3 = pd.read_csv(HOME +'/research_project/benchmark-tracker/ai_benchmark/RESULTS3/results_training.csv')\n",
    "data_infe4 = pd.read_csv(HOME +'/research_project/benchmark-tracker/ai_benchmark/RESULTS4/results_inference.csv')\n",
    "data_train4 = pd.read_csv(HOME +'/research_project/benchmark-tracker/ai_benchmark/RESULTS4/results_training.csv')\n",
    "data_infe5 = pd.read_csv(HOME +'/research_project/benchmark-tracker/ai_benchmark/RESULTS5/results_inference.csv')\n",
    "data_train5 = pd.read_csv(HOME +'/research_project/benchmark-tracker/ai_benchmark/RESULTS5/results_training.csv')\n",
    "data_infe6 = pd.read_csv(HOME +'/research_project/benchmark-tracker/ai_benchmark/RESULTS6/results_inference.csv')\n",
    "data_train6 = pd.read_csv(HOME +'/research_project/benchmark-tracker/ai_benchmark/RESULTS6/results_training.csv')\n",
    "data_infe7 = pd.read_csv(HOME +'/research_project/benchmark-tracker/ai_benchmark/RESULTS7/results_inference.csv')\n",
    "data_train7 = pd.read_csv(HOME +'/research_project/benchmark-tracker/ai_benchmark/RESULTS7/results_training.csv')\n",
    "data_infe8 = pd.read_csv(HOME +'/research_project/benchmark-tracker/ai_benchmark/RESULTS8/results_inference.csv')\n",
    "data_train8 = pd.read_csv(HOME +'/research_project/benchmark-tracker/ai_benchmark/RESULTS8/results_training.csv')\n",
    "data_infe9 = pd.read_csv(HOME +'/research_project/benchmark-tracker/ai_benchmark/RESULTS9/results_inference.csv')\n",
    "data_train9 = pd.read_csv(HOME +'/research_project/benchmark-tracker/ai_benchmark/RESULTS9/results_training.csv')\n",
    "data_infe10 = pd.read_csv(HOME +'/research_project/benchmark-tracker/ai_benchmark/RESULTS10/results_inference.csv')\n",
    "data_train10 = pd.read_csv(HOME +'/research_project/benchmark-tracker/ai_benchmark/RESULTS10/results_training.csv')"
   ]
  },
  {
   "cell_type": "code",
   "execution_count": null,
   "id": "19dcc37d-2c07-4f8e-a86c-02246ec815b5",
   "metadata": {},
   "outputs": [],
   "source": [
    "data_infe1 = data_infe1.set_axis(['MobileNet-V2','Inception-V3','Inception-V4','Inception-ResNet-V2','ResNet-V2-50','ResNet-V2-152','VGG-16','SRCNN 9-5-5_1','SRCNN 9-5-5_2','VGG-19_1','VGG-19_2','ResNet-SRGAN_1','ResNet-SRGAN_2','ResNet-DPED_1','ResNet-DPED_2','U-Net_1','U-Net_2','Nvidia-SPADE','ICNet','PSPNet','DeepLab'])\n",
    "data_infe1 = data_infe1.drop(columns=\"tool_PUE\")\n",
    "data_infe2 = data_infe2.set_axis(['MobileNet-V2','Inception-V3','Inception-V4','Inception-ResNet-V2','ResNet-V2-50','ResNet-V2-152','VGG-16','SRCNN 9-5-5_1','SRCNN 9-5-5_2','VGG-19_1','VGG-19_2','ResNet-SRGAN_1','ResNet-SRGAN_2','ResNet-DPED_1','ResNet-DPED_2','U-Net_1','U-Net_2','Nvidia-SPADE','ICNet','PSPNet','DeepLab'])\n",
    "data_infe2 = data_infe2.drop(columns=\"tool_PUE\")\n",
    "data_infe3 = data_infe3.set_axis(['MobileNet-V2','Inception-V3','Inception-V4','Inception-ResNet-V2','ResNet-V2-50','ResNet-V2-152','VGG-16','SRCNN 9-5-5_1','SRCNN 9-5-5_2','VGG-19_1','VGG-19_2','ResNet-SRGAN_1','ResNet-SRGAN_2','ResNet-DPED_1','ResNet-DPED_2','U-Net_1','U-Net_2','Nvidia-SPADE','ICNet','PSPNet','DeepLab'])\n",
    "data_infe3 = data_infe3.drop(columns=\"tool_PUE\")\n",
    "data_infe4 = data_infe4.set_axis(['MobileNet-V2','Inception-V3','Inception-V4','Inception-ResNet-V2','ResNet-V2-50','ResNet-V2-152','VGG-16','SRCNN 9-5-5_1','SRCNN 9-5-5_2','VGG-19_1','VGG-19_2','ResNet-SRGAN_1','ResNet-SRGAN_2','ResNet-DPED_1','ResNet-DPED_2','U-Net_1','U-Net_2','Nvidia-SPADE','ICNet','PSPNet','DeepLab'])\n",
    "data_infe4 = data_infe4.drop(columns=\"tool_PUE\")\n",
    "data_infe5 = data_infe5.set_axis(['MobileNet-V2','Inception-V3','Inception-V4','Inception-ResNet-V2','ResNet-V2-50','ResNet-V2-152','VGG-16','SRCNN 9-5-5_1','SRCNN 9-5-5_2','VGG-19_1','VGG-19_2','ResNet-SRGAN_1','ResNet-SRGAN_2','ResNet-DPED_1','ResNet-DPED_2','U-Net_1','U-Net_2','Nvidia-SPADE','ICNet','PSPNet','DeepLab'])\n",
    "data_infe5 = data_infe5.drop(columns=\"tool_PUE\")\n",
    "data_infe6 = data_infe6.set_axis(['MobileNet-V2','Inception-V3','Inception-V4','Inception-ResNet-V2','ResNet-V2-50','ResNet-V2-152','VGG-16','SRCNN 9-5-5_1','SRCNN 9-5-5_2','VGG-19_1','VGG-19_2','ResNet-SRGAN_1','ResNet-SRGAN_2','ResNet-DPED_1','ResNet-DPED_2','U-Net_1','U-Net_2','Nvidia-SPADE','ICNet','PSPNet','DeepLab'])\n",
    "data_infe6 = data_infe6.drop(columns=\"tool_PUE\")\n",
    "data_infe7 = data_infe7.set_axis(['MobileNet-V2','Inception-V3','Inception-V4','Inception-ResNet-V2','ResNet-V2-50','ResNet-V2-152','VGG-16','SRCNN 9-5-5_1','SRCNN 9-5-5_2','VGG-19_1','VGG-19_2','ResNet-SRGAN_1','ResNet-SRGAN_2','ResNet-DPED_1','ResNet-DPED_2','U-Net_1','U-Net_2','Nvidia-SPADE','ICNet','PSPNet','DeepLab'])\n",
    "data_infe7 = data_infe7.drop(columns=\"tool_PUE\")\n",
    "data_infe8 = data_infe8.set_axis(['MobileNet-V2','Inception-V3','Inception-V4','Inception-ResNet-V2','ResNet-V2-50','ResNet-V2-152','VGG-16','SRCNN 9-5-5_1','SRCNN 9-5-5_2','VGG-19_1','VGG-19_2','ResNet-SRGAN_1','ResNet-SRGAN_2','ResNet-DPED_1','ResNet-DPED_2','U-Net_1','U-Net_2','Nvidia-SPADE','ICNet','PSPNet','DeepLab'])\n",
    "data_infe8 = data_infe8.drop(columns=\"tool_PUE\")\n",
    "data_infe9 = data_infe9.set_axis(['MobileNet-V2','Inception-V3','Inception-V4','Inception-ResNet-V2','ResNet-V2-50','ResNet-V2-152','VGG-16','SRCNN 9-5-5_1','SRCNN 9-5-5_2','VGG-19_1','VGG-19_2','ResNet-SRGAN_1','ResNet-SRGAN_2','ResNet-DPED_1','ResNet-DPED_2','U-Net_1','U-Net_2','Nvidia-SPADE','ICNet','PSPNet','DeepLab'])\n",
    "data_infe9 = data_infe9.drop(columns=\"tool_PUE\")\n",
    "data_infe10 = data_infe10.set_axis(['MobileNet-V2','Inception-V3','Inception-V4','Inception-ResNet-V2','ResNet-V2-50','ResNet-V2-152','VGG-16','SRCNN 9-5-5_1','SRCNN 9-5-5_2','VGG-19_1','VGG-19_2','ResNet-SRGAN_1','ResNet-SRGAN_2','ResNet-DPED_1','ResNet-DPED_2','U-Net_1','U-Net_2','Nvidia-SPADE','ICNet','PSPNet','DeepLab'])\n",
    "data_infe10 = data_infe10.drop(columns=\"tool_PUE\")"
   ]
  },
  {
   "cell_type": "code",
   "execution_count": null,
   "id": "6f5c583f-02ae-4036-b5fa-86054e694131",
   "metadata": {},
   "outputs": [],
   "source": [
    "data_train1 = data_train1.set_axis(['MobileNet-V2','Inception-V3','Inception-V4','Inception-ResNet-V2','ResNet-V2-50','ResNet-V2-152','VGG-16','SRCNN 9-5-5','VGG-19','ResNet-SRGAN','ResNet-DPED','U-Net','Nvidia-SPADE','ICNet','PSPNet','DeepLab'])\n",
    "data_train1= data_train1.drop(columns=\"tool_PUE\")\n",
    "data_train2 = data_train2.set_axis(['MobileNet-V2','Inception-V3','Inception-V4','Inception-ResNet-V2','ResNet-V2-50','ResNet-V2-152','VGG-16','SRCNN 9-5-5','VGG-19','ResNet-SRGAN','ResNet-DPED','U-Net','Nvidia-SPADE','ICNet','PSPNet','DeepLab'])\n",
    "data_train2= data_train2.drop(columns=\"tool_PUE\")\n",
    "data_train3 = data_train3.set_axis(['MobileNet-V2','Inception-V3','Inception-V4','Inception-ResNet-V2','ResNet-V2-50','ResNet-V2-152','VGG-16','SRCNN 9-5-5','VGG-19','ResNet-SRGAN','ResNet-DPED','U-Net','Nvidia-SPADE','ICNet','PSPNet','DeepLab'])\n",
    "data_train3= data_train3.drop(columns=\"tool_PUE\")\n",
    "data_train4 = data_train4.set_axis(['MobileNet-V2','Inception-V3','Inception-V4','Inception-ResNet-V2','ResNet-V2-50','ResNet-V2-152','VGG-16','SRCNN 9-5-5','VGG-19','ResNet-SRGAN','ResNet-DPED','U-Net','Nvidia-SPADE','ICNet','PSPNet','DeepLab'])\n",
    "data_train4= data_train4.drop(columns=\"tool_PUE\")\n",
    "data_train5 = data_train5.set_axis(['MobileNet-V2','Inception-V3','Inception-V4','Inception-ResNet-V2','ResNet-V2-50','ResNet-V2-152','VGG-16','SRCNN 9-5-5','VGG-19','ResNet-SRGAN','ResNet-DPED','U-Net','Nvidia-SPADE','ICNet','PSPNet','DeepLab'])\n",
    "data_train5= data_train5.drop(columns=\"tool_PUE\")\n",
    "data_train6 = data_train6.set_axis(['MobileNet-V2','Inception-V3','Inception-V4','Inception-ResNet-V2','ResNet-V2-50','ResNet-V2-152','VGG-16','SRCNN 9-5-5','VGG-19','ResNet-SRGAN','ResNet-DPED','U-Net','Nvidia-SPADE','ICNet','PSPNet','DeepLab'])\n",
    "data_train6= data_train6.drop(columns=\"tool_PUE\")\n",
    "data_train7 = data_train7.set_axis(['MobileNet-V2','Inception-V3','Inception-V4','Inception-ResNet-V2','ResNet-V2-50','ResNet-V2-152','VGG-16','SRCNN 9-5-5','VGG-19','ResNet-SRGAN','ResNet-DPED','U-Net','Nvidia-SPADE','ICNet','PSPNet','DeepLab'])\n",
    "data_train7= data_train7.drop(columns=\"tool_PUE\")\n",
    "data_train8 = data_train8.set_axis(['MobileNet-V2','Inception-V3','Inception-V4','Inception-ResNet-V2','ResNet-V2-50','ResNet-V2-152','VGG-16','SRCNN 9-5-5','VGG-19','ResNet-SRGAN','ResNet-DPED','U-Net','Nvidia-SPADE','ICNet','PSPNet','DeepLab'])\n",
    "data_train8= data_train8.drop(columns=\"tool_PUE\")\n",
    "data_train9 = data_train9.set_axis(['MobileNet-V2','Inception-V3','Inception-V4','Inception-ResNet-V2','ResNet-V2-50','ResNet-V2-152','VGG-16','SRCNN 9-5-5','VGG-19','ResNet-SRGAN','ResNet-DPED','U-Net','Nvidia-SPADE','ICNet','PSPNet','DeepLab'])\n",
    "data_train9= data_train9.drop(columns=\"tool_PUE\")\n",
    "data_train10 = data_train10.set_axis(['MobileNet-V2','Inception-V3','Inception-V4','Inception-ResNet-V2','ResNet-V2-50','ResNet-V2-152','VGG-16','SRCNN 9-5-5','VGG-19','ResNet-SRGAN','ResNet-DPED','U-Net','Nvidia-SPADE','ICNet','PSPNet','DeepLab'])\n",
    "data_train10= data_train10.drop(columns=\"tool_PUE\")"
   ]
  },
  {
   "cell_type": "code",
   "execution_count": null,
   "id": "e97a6880-af24-47de-82c6-ba949325258a",
   "metadata": {},
   "outputs": [],
   "source": [
    "data_infe_class1 = data_infe1[0:7]\n",
    "data_infe_class2 = data_infe2[0:7]\n",
    "data_infe_class3 = data_infe3[0:7]\n",
    "data_infe_class4 = data_infe4[0:7]\n",
    "data_infe_class5 = data_infe5[0:7]\n",
    "data_infe_class6 = data_infe6[0:7]\n",
    "data_infe_class7 = data_infe7[0:7]\n",
    "data_infe_class8 = data_infe8[0:7]\n",
    "data_infe_class9 = data_infe9[0:7]\n",
    "data_infe_class10 = data_infe10[0:7]"
   ]
  },
  {
   "cell_type": "code",
   "execution_count": null,
   "id": "38c00a8f-c2b3-4614-8bd7-3d88579e5ec9",
   "metadata": {},
   "outputs": [],
   "source": [
    "data_infe_map1 = data_infe1[7:15]\n",
    "data_infe_map2 = data_infe2[7:15]\n",
    "data_infe_map3 = data_infe3[7:15]\n",
    "data_infe_map4 = data_infe4[7:15]\n",
    "data_infe_map5 = data_infe5[7:15]\n",
    "data_infe_map6 = data_infe6[7:15]\n",
    "data_infe_map7 = data_infe7[7:15]\n",
    "data_infe_map8 = data_infe8[7:15]\n",
    "data_infe_map9 = data_infe9[7:15]\n",
    "data_infe_map10 = data_infe10[7:15]\n"
   ]
  },
  {
   "cell_type": "code",
   "execution_count": null,
   "id": "9638f8cb-669b-4037-87c7-2943c4233167",
   "metadata": {},
   "outputs": [],
   "source": [
    "data_infe_seg1 = data_infe1[15:21]\n",
    "data_infe_seg2 = data_infe2[15:21]\n",
    "data_infe_seg3 = data_infe3[15:21]\n",
    "data_infe_seg4 = data_infe4[15:21]\n",
    "data_infe_seg5 = data_infe5[15:21]\n",
    "data_infe_seg6 = data_infe6[15:21]\n",
    "data_infe_seg7 = data_infe7[15:21]\n",
    "data_infe_seg8 = data_infe8[15:21]\n",
    "data_infe_seg9 = data_infe9[15:21]\n",
    "data_infe_seg10 = data_infe10[15:21]"
   ]
  },
  {
   "cell_type": "code",
   "execution_count": null,
   "id": "c3c07829-5b43-42c7-85d9-7fb5551135a7",
   "metadata": {},
   "outputs": [],
   "source": [
    "infe_clas1=data_infe_class1/1400\n",
    "infe_clas2=data_infe_class2/1400\n",
    "infe_clas3=data_infe_class3/1400\n",
    "infe_clas4=data_infe_class4/1400\n",
    "infe_clas5=data_infe_class5/1400\n",
    "infe_clas6=data_infe_class6/1400\n",
    "infe_clas7=data_infe_class7/1400\n",
    "infe_clas8=data_infe_class8/1400\n",
    "infe_clas9=data_infe_class9/1400\n",
    "infe_clas10=data_infe_class10/1400\n"
   ]
  },
  {
   "cell_type": "code",
   "execution_count": null,
   "id": "fe1b5b0f-0449-4810-aa1d-a8550154280f",
   "metadata": {},
   "outputs": [],
   "source": [
    "in_c1 = infe_clas1.append(infe_clas2)\n",
    "in_c2 = in_c1.append(infe_clas3)\n",
    "in_c3 = in_c2.append(infe_clas4)\n",
    "in_c4 = in_c3.append(infe_clas5)\n",
    "in_c5 = in_c4.append(infe_clas6)\n",
    "in_c6 = in_c5.append(infe_clas7)\n",
    "in_c7 = in_c6.append(infe_clas8)\n",
    "in_c8 = in_c7.append(infe_clas9)\n",
    "in_c9 = in_c8.append(infe_clas10)"
   ]
  },
  {
   "cell_type": "code",
   "execution_count": null,
   "id": "5c7c3b7c-b33e-497a-bba6-fc89bfe619a2",
   "metadata": {},
   "outputs": [],
   "source": [
    "plt.figure(figsize=(8,6))\n",
    "ax= sb.barplot(x= in_c9.index, y=\"tool_energy_consumption(kWh)\", data=in_c9)\n",
    "plt.xticks(fontsize=12, rotation=90)\n",
    "plt.title('Energy consumption in inference per image for Classification Models',size=18)\n",
    "plt.xlabel(\"Classification Models\", size=15)\n",
    "plt.ylabel(\"Energy consumption (kWh)\", size=15)\n",
    "plt.savefig('image/infe_class_energy.pdf',bbox_inches = 'tight')"
   ]
  },
  {
   "cell_type": "code",
   "execution_count": null,
   "id": "caa6c280-a54f-4fdb-b021-c3ccc0e49460",
   "metadata": {},
   "outputs": [],
   "source": [
    "infe_map1=data_infe_map1/1200\n",
    "infe_map2=data_infe_map2/1200\n",
    "infe_map3=data_infe_map3/1200\n",
    "infe_map4=data_infe_map4/1200\n",
    "infe_map5=data_infe_map5/1200\n",
    "infe_map6=data_infe_map6/1200\n",
    "infe_map7=data_infe_map7/1200\n",
    "infe_map8=data_infe_map8/1200\n",
    "infe_map9=data_infe_map9/1200\n",
    "infe_map10=data_infe_map10/1200"
   ]
  },
  {
   "cell_type": "code",
   "execution_count": null,
   "id": "fe614579-7f43-4bf4-9264-612eb96cc1e5",
   "metadata": {},
   "outputs": [],
   "source": [
    "in_m1 = infe_map1.append(infe_map2)\n",
    "in_m2 = in_m1.append(infe_map3)\n",
    "in_m3 = in_m2.append(infe_map4)\n",
    "in_m4 = in_m3.append(infe_map5)\n",
    "in_m5 = in_m4.append(infe_map6)\n",
    "in_m6 = in_m5.append(infe_map7)\n",
    "in_m7 = in_m6.append(infe_map8)\n",
    "in_m8 = in_m7.append(infe_map9)\n",
    "in_m9 = in_m8.append(infe_map10)"
   ]
  },
  {
   "cell_type": "code",
   "execution_count": null,
   "id": "23d7f185-52ad-41ae-934d-28e4c8d9719e",
   "metadata": {},
   "outputs": [],
   "source": [
    "plt.figure(figsize=(8,6))\n",
    "ax= sb.barplot(x= in_m9.index, y=\"tool_energy_consumption(kWh)\", data=in_m9)\n",
    "plt.xticks(fontsize=12, rotation=90)\n",
    "plt.title('Energy consumption in inference per image for Image-to-Image Mapping Models',size=18)\n",
    "plt.xlabel(\"Image-to-Image Mapping Models\", size=15)\n",
    "plt.ylabel(\"Energy consumption (kWh)\", size=15)\n",
    "plt.savefig('image/infe_energy.pdf',bbox_inches = 'tight')"
   ]
  },
  {
   "cell_type": "code",
   "execution_count": null,
   "id": "74c31845-5cb1-4910-aece-2cdb60c04134",
   "metadata": {},
   "outputs": [],
   "source": [
    "infe_seg1=data_infe_seg1/90\n",
    "infe_seg2=data_infe_seg2/90\n",
    "infe_seg3=data_infe_seg3/90\n",
    "infe_seg4=data_infe_seg4/90\n",
    "infe_seg5=data_infe_seg5/90\n",
    "infe_seg6=data_infe_seg6/90\n",
    "infe_seg7=data_infe_seg7/90\n",
    "infe_seg8=data_infe_seg8/90\n",
    "infe_seg9=data_infe_seg9/90\n",
    "infe_seg10=data_infe_seg10/90"
   ]
  },
  {
   "cell_type": "code",
   "execution_count": null,
   "id": "f23efb14-399e-4115-beb6-6211fe5f8d8c",
   "metadata": {},
   "outputs": [],
   "source": [
    "in_s1 = infe_seg1.append(infe_seg2)\n",
    "in_s2 = in_s1.append(infe_seg3)\n",
    "in_s3 = in_s2.append(infe_seg4)\n",
    "in_s4 = in_s3.append(infe_seg5)\n",
    "in_s5 = in_s4.append(infe_seg6)\n",
    "in_s6 = in_s5.append(infe_seg7)\n",
    "in_s7 = in_s6.append(infe_seg8)\n",
    "in_s8 = in_s7.append(infe_seg9)\n",
    "in_s9 = in_s8.append(infe_seg10)"
   ]
  },
  {
   "cell_type": "code",
   "execution_count": null,
   "id": "5d8373d8-87ce-480f-83aa-eeda5e6d4fcb",
   "metadata": {},
   "outputs": [],
   "source": [
    "plt.figure(figsize=(8,6))\n",
    "ax= sb.barplot(x= in_s9.index, y=\"tool_energy_consumption(kWh)\", data=in_s9)\n",
    "plt.xticks(fontsize=12, rotation=90)\n",
    "plt.title('Energy consumption in inference per image for Segmentation Models',size=18)\n",
    "plt.xlabel(\"Segmentation Models\", size=15)\n",
    "plt.ylabel(\"Energy consumption (kWh)\", size=15)\n",
    "plt.savefig('image/infe_energy.pdf',bbox_inches = 'tight')"
   ]
  },
  {
   "cell_type": "code",
   "execution_count": null,
   "id": "89fe17be-e170-4ca1-9a59-283eca9ca6c6",
   "metadata": {},
   "outputs": [],
   "source": [
    "pre_infe = in_c9.append(in_s9)\n",
    "infe = pre_infe.append(in_m9)\n",
    "infe"
   ]
  },
  {
   "cell_type": "code",
   "execution_count": null,
   "id": "26d6ebbd-e411-42be-a54c-2da3014e82d2",
   "metadata": {},
   "outputs": [],
   "source": [
    "plt.figure(figsize=(8,6))\n",
    "ax= sb.barplot(x= infe.index, y=\"tool_energy_consumption(kWh)\", data=infe)\n",
    "plt.xticks(fontsize=12, rotation=90)\n",
    "plt.title('Energy consumption in inference per image',size=18)\n",
    "plt.xlabel(\"Models\", size=15)\n",
    "plt.ylabel(\"Energy consumption (kWh)\", size=15)\n",
    "plt.savefig('image/infe_energy.pdf',bbox_inches = 'tight')"
   ]
  },
  {
   "cell_type": "code",
   "execution_count": null,
   "id": "1b7ab2c7-72c1-4bbf-afa4-12a8de176879",
   "metadata": {},
   "outputs": [],
   "source": []
  },
  {
   "cell_type": "code",
   "execution_count": null,
   "id": "a4acc78f-b6c9-43e3-82f1-6bb05aa450c9",
   "metadata": {},
   "outputs": [],
   "source": []
  },
  {
   "cell_type": "code",
   "execution_count": null,
   "id": "dd2bfc44-fb6c-4ec9-80db-018b99f1c1b0",
   "metadata": {},
   "outputs": [],
   "source": []
  },
  {
   "cell_type": "code",
   "execution_count": null,
   "id": "d7dfdd09-dd4b-4533-b120-4e8be620733d",
   "metadata": {},
   "outputs": [],
   "source": []
  },
  {
   "cell_type": "code",
   "execution_count": null,
   "id": "5304654f-64ec-414d-b4c6-62188991e104",
   "metadata": {},
   "outputs": [],
   "source": []
  },
  {
   "cell_type": "code",
   "execution_count": null,
   "id": "8d0b843f-ffc6-409a-8095-23ee1a425c1e",
   "metadata": {},
   "outputs": [],
   "source": []
  },
  {
   "cell_type": "code",
   "execution_count": null,
   "id": "462eae8b-7ebd-4cb9-9a05-68fa8b1203e9",
   "metadata": {},
   "outputs": [],
   "source": [
    "complexity = [5,25,35,60,30,70,150]"
   ]
  },
  {
   "cell_type": "code",
   "execution_count": null,
   "id": "2cda0c8c-a4ee-4e03-a7de-b4bab4da8aff",
   "metadata": {},
   "outputs": [],
   "source": [
    "data_train_class1 = data_train1[0:7]\n",
    "data_train_class2 = data_train2[0:7]\n",
    "data_train_class3 = data_train3[0:7]\n",
    "data_train_class4 = data_train4[0:7]\n",
    "data_train_class5 = data_train5[0:7]\n",
    "data_train_class6 = data_train6[0:7]\n",
    "data_train_class7 = data_train7[0:7]\n",
    "data_train_class8 = data_train8[0:7]\n",
    "data_train_class9 = data_train9[0:7]\n",
    "data_train_class10 = data_train10[0:7]"
   ]
  },
  {
   "cell_type": "code",
   "execution_count": null,
   "id": "b792915e-91de-4eef-9678-dd5dd89ca045",
   "metadata": {},
   "outputs": [],
   "source": [
    "data_train_class1['number_of_parameters(M)'] = complexity\n",
    "data_train_class2['number_of_parameters(M)'] = complexity\n",
    "data_train_class3['number_of_parameters(M)'] = complexity\n",
    "data_train_class4['number_of_parameters(M)'] = complexity\n",
    "data_train_class5['number_of_parameters(M)'] = complexity\n",
    "data_train_class6['number_of_parameters(M)'] = complexity\n",
    "data_train_class7['number_of_parameters(M)'] = complexity\n",
    "data_train_class8['number_of_parameters(M)'] = complexity\n",
    "data_train_class9['number_of_parameters(M)'] = complexity\n",
    "data_train_class10['number_of_parameters(M)'] = complexity"
   ]
  },
  {
   "cell_type": "code",
   "execution_count": null,
   "id": "a698b777-6280-42c8-8d57-cdfcbbe15b21",
   "metadata": {},
   "outputs": [],
   "source": [
    "data_train_class1"
   ]
  },
  {
   "cell_type": "code",
   "execution_count": null,
   "id": "e5c284bf-5ac7-469d-8fc5-0326038be471",
   "metadata": {},
   "outputs": [],
   "source": [
    "data_train_map1=data_train1[7:11]\n",
    "data_train_map2=data_train2[7:11]\n",
    "data_train_map3=data_train3[7:11]\n",
    "data_train_map4=data_train4[7:11]\n",
    "data_train_map5=data_train5[7:11]\n",
    "data_train_map6=data_train6[7:11]\n",
    "data_train_map7=data_train7[7:11]\n",
    "data_train_map8=data_train8[7:11]\n",
    "data_train_map9=data_train9[7:11]\n",
    "data_train_map10=data_train10[7:11]"
   ]
  },
  {
   "cell_type": "code",
   "execution_count": null,
   "id": "83e82a07-1d5e-4cd7-a0ec-bd5c3ad46de6",
   "metadata": {},
   "outputs": [],
   "source": [
    "data_train_seg1=data_train1[11:16]\n",
    "data_train_seg2=data_train2[11:16]\n",
    "data_train_seg3=data_train3[11:16]\n",
    "data_train_seg4=data_train4[11:16]\n",
    "data_train_seg5=data_train5[11:16]\n",
    "data_train_seg6=data_train6[11:16]\n",
    "data_train_seg7=data_train7[11:16]\n",
    "data_train_seg8=data_train8[11:16]\n",
    "data_train_seg9=data_train9[11:16]\n",
    "data_train_seg10=data_train10[11:16]"
   ]
  },
  {
   "cell_type": "code",
   "execution_count": null,
   "id": "b5172409-7130-4475-a95c-5dbf1e0c9890",
   "metadata": {},
   "outputs": [],
   "source": []
  },
  {
   "cell_type": "code",
   "execution_count": null,
   "id": "dcc5aa8f-4c9f-42b6-a492-e68617ee4307",
   "metadata": {},
   "outputs": [],
   "source": []
  },
  {
   "cell_type": "code",
   "execution_count": null,
   "id": "bbcc60b1-2eba-48f0-a990-4f0370188bbb",
   "metadata": {},
   "outputs": [],
   "source": [
    "infe_class1 = data_infe_class1.append(data_infe_class2)\n",
    "infe_class2 = infe_class1.append(data_infe_class3)\n",
    "infe_class3 = infe_class2.append(data_infe_class4)\n",
    "infe_class4 = infe_class3.append(data_infe_class5)\n",
    "infe_class5 = infe_class4.append(data_infe_class6)\n",
    "infe_class6 = infe_class5.append(data_infe_class7)\n",
    "infe_class7 = infe_class6.append(data_infe_class8)\n",
    "infe_class8 = infe_class7.append(data_infe_class9)\n",
    "infe_class9 = infe_class8.append(data_infe_class10)\n",
    "infe_class9"
   ]
  },
  {
   "cell_type": "code",
   "execution_count": null,
   "id": "899ffb89-2273-4742-8906-54300f387272",
   "metadata": {},
   "outputs": [],
   "source": [
    "train_class1 = data_train_class1.append(data_train_class2)\n",
    "train_class2 = train_class1.append(data_train_class3)\n",
    "train_class3 = train_class2.append(data_train_class4)\n",
    "train_class4 = train_class3.append(data_train_class5)\n",
    "train_class5 = train_class4.append(data_train_class6)\n",
    "train_class6 = train_class5.append(data_train_class7)\n",
    "train_class7 = train_class6.append(data_train_class8)\n",
    "train_class8 = train_class7.append(data_train_class9)\n",
    "train_class9 = train_class8.append(data_train_class10)\n",
    "train_class9"
   ]
  },
  {
   "cell_type": "code",
   "execution_count": null,
   "id": "259b138b-9797-46c1-bd63-25f730b5b95c",
   "metadata": {},
   "outputs": [],
   "source": [
    "plt.figure(figsize=(8,6))\n",
    "ax= sb.barplot(x=train_class9.index,y =data_train_class['tool_duration(seconds)'],data = train_class9)\n",
    "ax.tick_params(axis='x', rotation=30)\n",
    "plt.title('Duration in training for classification',size=18)\n",
    "plt.xlabel(\"Classification Models\", size=15)\n",
    "plt.ylabel(\"Duration (seconds)\", size=15)\n",
    "plt.savefig('image/train_class_du.pdf',bbox_inches = 'tight')"
   ]
  },
  {
   "cell_type": "code",
   "execution_count": null,
   "id": "9c4cf17a-236b-46e3-b620-a15b676def6c",
   "metadata": {},
   "outputs": [],
   "source": []
  },
  {
   "cell_type": "code",
   "execution_count": null,
   "id": "64f14c35-597c-47b4-96dc-d1b07056630a",
   "metadata": {},
   "outputs": [],
   "source": []
  }
 ],
 "metadata": {
  "kernelspec": {
   "display_name": "Python 3 (ipykernel)",
   "language": "python",
   "name": "python3"
  },
  "language_info": {
   "codemirror_mode": {
    "name": "ipython",
    "version": 3
   },
   "file_extension": ".py",
   "mimetype": "text/x-python",
   "name": "python",
   "nbconvert_exporter": "python",
   "pygments_lexer": "ipython3",
   "version": "3.9.2"
  }
 },
 "nbformat": 4,
 "nbformat_minor": 5
}
